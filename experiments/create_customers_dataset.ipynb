{
 "cells": [
  {
   "cell_type": "code",
   "execution_count": 37,
   "id": "ae136a9c",
   "metadata": {},
   "outputs": [
    {
     "name": "stdout",
     "output_type": "stream",
     "text": [
      "9\n",
      "9\n"
     ]
    }
   ],
   "source": [
    "import pandas as pd\n",
    "import csv\n",
    "\n",
    "cols=['registration-number',\n",
    "      'renewal-date', \n",
    "      'payment-frequency',\n",
    "      'annual-subs',\n",
    "      'months-arrears',\n",
    "      'months-free-last',\n",
    "      'months-free-this',\n",
    "      'color-segment',\n",
    "      'claims-paid']\n",
    "\n",
    "user1=[1,\"2024-01-01\",\"Monthly\",1250,0,\"No\",0,\"Red\",\"Less Than £500\"]\n",
    "\n",
    "print(len(cols))\n",
    "print(len(user1))"
   ]
  },
  {
   "cell_type": "code",
   "execution_count": 38,
   "id": "e2f5d866",
   "metadata": {},
   "outputs": [
    {
     "name": "stdout",
     "output_type": "stream",
     "text": [
      "CSV file has been created successfully.\n"
     ]
    }
   ],
   "source": [
    "data = [cols, user1]\n",
    "\n",
    "filename='/Users/Ben/Desktop/flask-form-phase-2/data/consumer_retention-customers.csv'\n",
    "with open(filename, mode='w', newline='') as file:\n",
    "    writer = csv.writer(file)\n",
    "    writer.writerows(data)\n",
    "\n",
    "print(\"CSV file has been created successfully.\")"
   ]
  },
  {
   "cell_type": "code",
   "execution_count": 31,
   "id": "4a31f462",
   "metadata": {},
   "outputs": [
    {
     "data": {
      "text/html": [
       "<div>\n",
       "<style scoped>\n",
       "    .dataframe tbody tr th:only-of-type {\n",
       "        vertical-align: middle;\n",
       "    }\n",
       "\n",
       "    .dataframe tbody tr th {\n",
       "        vertical-align: top;\n",
       "    }\n",
       "\n",
       "    .dataframe thead th {\n",
       "        text-align: right;\n",
       "    }\n",
       "</style>\n",
       "<table border=\"1\" class=\"dataframe\">\n",
       "  <thead>\n",
       "    <tr style=\"text-align: right;\">\n",
       "      <th></th>\n",
       "      <th>registration-number</th>\n",
       "      <th>renewal-date</th>\n",
       "      <th>payment-frequency</th>\n",
       "      <th>annual-subs</th>\n",
       "      <th>months-arrears</th>\n",
       "      <th>months-free-last</th>\n",
       "      <th>months-free-this</th>\n",
       "      <th>color-segment</th>\n",
       "      <th>claims-paid</th>\n",
       "    </tr>\n",
       "  </thead>\n",
       "  <tbody>\n",
       "    <tr>\n",
       "      <th>1</th>\n",
       "      <td>2024-01-01</td>\n",
       "      <td>Monthly</td>\n",
       "      <td>1250</td>\n",
       "      <td>0</td>\n",
       "      <td>0</td>\n",
       "      <td>No</td>\n",
       "      <td>0</td>\n",
       "      <td>Red</td>\n",
       "      <td>Less Than £500</td>\n",
       "    </tr>\n",
       "  </tbody>\n",
       "</table>\n",
       "</div>"
      ],
      "text/plain": [
       "  registration-number renewal-date  payment-frequency  annual-subs  \\\n",
       "1          2024-01-01      Monthly               1250            0   \n",
       "\n",
       "   months-arrears months-free-last  months-free-this color-segment  \\\n",
       "1               0               No                 0           Red   \n",
       "\n",
       "      claims-paid  \n",
       "1  Less Than £500  "
      ]
     },
     "execution_count": 31,
     "metadata": {},
     "output_type": "execute_result"
    }
   ],
   "source": [
    "df=pd.read_csv('/Users/Ben/Desktop/flask-form-phase-2/data/consumer_retention-customers.csv')\n",
    "df.head()"
   ]
  },
  {
   "cell_type": "code",
   "execution_count": 33,
   "id": "53c3aa60",
   "metadata": {},
   "outputs": [
    {
     "data": {
      "text/html": [
       "<div>\n",
       "<style scoped>\n",
       "    .dataframe tbody tr th:only-of-type {\n",
       "        vertical-align: middle;\n",
       "    }\n",
       "\n",
       "    .dataframe tbody tr th {\n",
       "        vertical-align: top;\n",
       "    }\n",
       "\n",
       "    .dataframe thead th {\n",
       "        text-align: right;\n",
       "    }\n",
       "</style>\n",
       "<table border=\"1\" class=\"dataframe\">\n",
       "  <thead>\n",
       "    <tr style=\"text-align: right;\">\n",
       "      <th></th>\n",
       "      <th>registration-number</th>\n",
       "      <th>renewal-date</th>\n",
       "      <th>payment-frequency</th>\n",
       "      <th>annual-subs</th>\n",
       "      <th>months-arrears</th>\n",
       "      <th>months-free-last</th>\n",
       "      <th>months-free-this</th>\n",
       "      <th>color-segment</th>\n",
       "      <th>claims-paid</th>\n",
       "    </tr>\n",
       "  </thead>\n",
       "  <tbody>\n",
       "  </tbody>\n",
       "</table>\n",
       "</div>"
      ],
      "text/plain": [
       "Empty DataFrame\n",
       "Columns: [registration-number, renewal-date, payment-frequency, annual-subs, months-arrears, months-free-last, months-free-this, color-segment, claims-paid]\n",
       "Index: []"
      ]
     },
     "execution_count": 33,
     "metadata": {},
     "output_type": "execute_result"
    }
   ],
   "source": [
    "df[df['registration-number'].astype(str) == str(1)]"
   ]
  }
 ],
 "metadata": {
  "kernelspec": {
   "display_name": "Python 3",
   "language": "python",
   "name": "python3"
  },
  "language_info": {
   "codemirror_mode": {
    "name": "ipython",
    "version": 3
   },
   "file_extension": ".py",
   "mimetype": "text/x-python",
   "name": "python",
   "nbconvert_exporter": "python",
   "pygments_lexer": "ipython3",
   "version": "3.8.8"
  }
 },
 "nbformat": 4,
 "nbformat_minor": 5
}
