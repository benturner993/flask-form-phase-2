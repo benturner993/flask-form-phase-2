{
 "cells": [
  {
   "cell_type": "code",
   "execution_count": 28,
   "id": "608be726",
   "metadata": {},
   "outputs": [
    {
     "name": "stdout",
     "output_type": "stream",
     "text": [
      "CSV file has been created successfully.\n"
     ]
    }
   ],
   "source": [
    "import pandas as pd\n",
    "import csv\n",
    "\n",
    "data = [\n",
    "    ['registration-number','renewal-date', 'payment-frequency','annual-subs','months-arrears','months-free-last','months-free-this','color-segment','claims-paid'],\n",
    "    [1, \"2024-01-01\", \"Monthly\", 1250, 0, 0, \"No\", \"Green\", \"Less Than £500\"]\n",
    "]\n",
    "\n",
    "filename='/Users/Ben/Desktop/flask-form-phase-2/data/consumer_retention-customers.csv'\n",
    "with open(filename, mode='w', newline='') as file:\n",
    "    writer = csv.writer(file)\n",
    "    writer.writerows(data)\n",
    "\n",
    "print(\"CSV file has been created successfully.\")"
   ]
  },
  {
   "cell_type": "code",
   "execution_count": 29,
   "id": "bb8e8276",
   "metadata": {},
   "outputs": [
    {
     "data": {
      "text/html": [
       "<div>\n",
       "<style scoped>\n",
       "    .dataframe tbody tr th:only-of-type {\n",
       "        vertical-align: middle;\n",
       "    }\n",
       "\n",
       "    .dataframe tbody tr th {\n",
       "        vertical-align: top;\n",
       "    }\n",
       "\n",
       "    .dataframe thead th {\n",
       "        text-align: right;\n",
       "    }\n",
       "</style>\n",
       "<table border=\"1\" class=\"dataframe\">\n",
       "  <thead>\n",
       "    <tr style=\"text-align: right;\">\n",
       "      <th></th>\n",
       "      <th>registration-number</th>\n",
       "      <th>renewal-date</th>\n",
       "      <th>payment-frequency</th>\n",
       "      <th>annual-subs</th>\n",
       "      <th>months-arrears</th>\n",
       "      <th>months-free-last</th>\n",
       "      <th>months-free-this</th>\n",
       "      <th>color-segment</th>\n",
       "      <th>claims-paid</th>\n",
       "    </tr>\n",
       "  </thead>\n",
       "  <tbody>\n",
       "    <tr>\n",
       "      <th>0</th>\n",
       "      <td>1</td>\n",
       "      <td>2024-01-01</td>\n",
       "      <td>Monthly</td>\n",
       "      <td>1250</td>\n",
       "      <td>0</td>\n",
       "      <td>0</td>\n",
       "      <td>No</td>\n",
       "      <td>Green</td>\n",
       "      <td>Less Than £500</td>\n",
       "    </tr>\n",
       "  </tbody>\n",
       "</table>\n",
       "</div>"
      ],
      "text/plain": [
       "   registration-number renewal-date payment-frequency  annual-subs  \\\n",
       "0                    1   2024-01-01           Monthly         1250   \n",
       "\n",
       "   months-arrears  months-free-last months-free-this color-segment  \\\n",
       "0               0                 0               No         Green   \n",
       "\n",
       "      claims-paid  \n",
       "0  Less Than £500  "
      ]
     },
     "execution_count": 29,
     "metadata": {},
     "output_type": "execute_result"
    }
   ],
   "source": [
    "df=pd.read_csv('/Users/Ben/Desktop/flask-form-phase-2/data/consumer_retention-customers.csv')\n",
    "df.head()"
   ]
  }
 ],
 "metadata": {
  "kernelspec": {
   "display_name": "Python 3",
   "language": "python",
   "name": "python3"
  },
  "language_info": {
   "codemirror_mode": {
    "name": "ipython",
    "version": 3
   },
   "file_extension": ".py",
   "mimetype": "text/x-python",
   "name": "python",
   "nbconvert_exporter": "python",
   "pygments_lexer": "ipython3",
   "version": "3.8.8"
  }
 },
 "nbformat": 4,
 "nbformat_minor": 5
}
